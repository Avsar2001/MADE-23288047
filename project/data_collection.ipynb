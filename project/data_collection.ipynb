{
 "cells": [
  {
   "cell_type": "markdown",
   "id": "8fd25373-d9f4-40d8-9153-cc4539b6b667",
   "metadata": {},
   "source": [
    "# Impact of Forest Coverage on Urban Air Quality: A Global Analysis\n",
    "\n",
    "## Author: [Avsar Vora](https://github.com/Avsar2001)"
   ]
  },
  {
   "cell_type": "markdown",
   "id": "33f3ecc0-59bb-4db7-a56d-a75b305446b6",
   "metadata": {},
   "source": [
    "## Introduction\n",
    "\n",
    "In this data science project, I aim to explore the impact of forest coverage on urban air quality across different regions of the world. The primary question is: **\"How does forest coverage impact urban air quality across different regions of the world?\"**"
   ]
  },
  {
   "cell_type": "markdown",
   "id": "6f2a53ef-87ef-40d5-abf3-cc5eefde22c7",
   "metadata": {},
   "source": [
    "## Datasources\n",
    "\n",
    "### Datasource1: World Forest Area\n",
    "\n",
    "- Metadata URL: https://www.kaggle.com/datasets/webdevbadger/world-forest-area/data\n",
    "- Data URL: https://www.kaggle.com/datasets/webdevbadger/world-forest-area/download\n",
    "- Data Source & Data Type: [Kaggle](https://www.kaggle.com) - CSV\n",
    "- License: [Creative Commons Attribution 4.0 International License](https://creativecommons.org/licenses/by/4.0/).\n",
    "\n",
    "The dataset comprises 34 columns, encompassing detailed information such as the country name, country code, and the percentage of forest area as a proportion of the total land area. The dataset spans from 1990 to 2021, with individual columns representing the annual percentage of forest area for each year within this period.\n",
    "\n",
    "### Datasource2: World Air Quality Index\n",
    "\n",
    "- Metadata URL: https://www.kaggle.com/datasets/adityaramachandran27/world-air-quality-index-by-city-and-coordinates/data\n",
    "- Data URL: https://www.kaggle.com/datasets/adityaramachandran27/world-air-quality-index-by-city-and-coordinates/download\n",
    "- Data Source & Data Type: [Kaggle](https://www.kaggle.com) - CSV\n",
    "- License: [Creative Commons Attribution 4.0 International License](https://creativecommons.org/licenses/by/4.0/).\n",
    "\n",
    "This dataset contains detailed information on various countries, including the number of cities, their geographic coordinates (latitude and longitude), and different air quality indices recorded in 2021."
   ]
  },
  {
   "cell_type": "markdown",
   "id": "b3ca5223-8a8f-4133-b812-f8d85eb3b50f",
   "metadata": {},
   "source": [
    "### Libraries Used\n",
    "\n",
    "- **Pandas**: To create and manipulate data frames\n",
    "- **SQLAlchemy**: To dump data frames into sqlite database\n",
    "- **kaggle**: To retreive data from Kaggle and use Api keys to access data"
   ]
  },
  {
   "cell_type": "code",
   "execution_count": null,
   "id": "06f0a8b1-290b-42c3-9056-a959cbbebc2d",
   "metadata": {},
   "outputs": [],
   "source": [
    "%pip install --upgrade pip\n",
    "%pip install pandas==2.2.2\n",
    "%pip install SQLAlchemy==2.0.30\n",
    "%pip install kaggle==1.6.14"
   ]
  },
  {
   "cell_type": "markdown",
   "id": "1472c5d3-6d99-4eaf-b9fd-be0032410b5b",
   "metadata": {},
   "source": [
    "### Constant values to for each data frames: dataset_path, file_name, db_name, sqlalchemy_datatype"
   ]
  },
  {
   "cell_type": "code",
   "execution_count": null,
   "id": "fe977a67",
   "metadata": {},
   "outputs": [],
   "source": [
    "# Dataset const values to generate download & process data\n",
    "DATASET = {\n",
    "    \"WORLD_FOREST_DATA\": {\n",
    "        \"dataset_path\": \"webdevbadger/world-forest-area\",\n",
    "        \"file_name\": \"forest_area_percent.csv\",\n",
    "        \"db_name\": \"world_forest_data\",\n",
    "        \"sqlalchemy_datatype\": {\n",
    "            \"Country Name\": TEXT,\n",
    "            \"1990\": FLOAT(asdecimal=True),\n",
    "            \"1991\": FLOAT(asdecimal=True),\n",
    "            . # Due to the limit of pages in the report only showing the structure of the columns\n",
    "            .\n",
    "            .\n",
    "            \"2021\": FLOAT(asdecimal=True)\n",
    "        }\n",
    "    },\n",
    "    \"WORLD_AIR_QUALITY_DATA\": {\n",
    "        \"dataset_path\": \"adityaramachandran27/world-air-quality-index-by-city-and-coordinates\",\n",
    "        \"file_name\": \"AQI and Lat Long of Countries.csv\",\n",
    "        \"db_name\": \"world_air_quality_data\",\n",
    "        \"sqlalchemy_datatype\": {\n",
    "            \"Country\": TEXT,\n",
    "            \"AQI Value\": FLOAT(asdecimal=True),\n",
    "            \"CO AQI Value\": FLOAT(asdecimal=True),\n",
    "            \"Ozone AQI Value\": FLOAT(asdecimal=True),\n",
    "            \"NO2 AQI Value\": FLOAT(asdecimal=True),\n",
    "            \"PM2.5 AQI Value\": FLOAT(asdecimal=True)\n",
    "        }\n",
    "    },\n",
    "}"
   ]
  },
  {
   "cell_type": "markdown",
   "id": "1b0318bf-f345-4a1e-8f25-8c8c1de90292",
   "metadata": {},
   "source": [
    "### Data Cleaning (Forest Dataset)\n",
    "\n",
    "The dataset was downloaded and required minimal cleaning due to its high quality. The only modification made was the removal of one column containing **country code**."
   ]
  },
  {
   "cell_type": "code",
   "execution_count": null,
   "id": "90595ef0",
   "metadata": {},
   "outputs": [],
   "source": [
    "def get_and_preprocess_forest_dataframe():\n",
    "    # create forest dataframe from csv\n",
    "    forest_df = pd.read_csv(DATASET[\"WORLD_FOREST_DATA\"][\"file_name\"])\n",
    "\n",
    "    # preprocess steps for forest dataframe\n",
    "    forest_df = forest_df.drop(columns=['Country Code'])\n",
    "\n",
    "    return forest_df"
   ]
  },
  {
   "cell_type": "markdown",
   "id": "2ee95376-0533-474b-ba08-da1614bfa7f9",
   "metadata": {},
   "source": [
    "### Data Cleaning (World AQI Dataset)\n",
    "\n",
    "The dataset was downloaded and required minimal cleaning due to its high quality. The columns dropped for analysis are specified in the code as **columns**, while other columns, such as country and AQI values, were retained for analysis."
   ]
  },
  {
   "cell_type": "code",
   "execution_count": null,
   "id": "c1ed618d",
   "metadata": {},
   "outputs": [],
   "source": [
    "def get_and_preprocess_air_quality_dataframe():\n",
    "    # create air quality dataframe from csv\n",
    "    air_quality_df = pd.read_csv(DATASET[\"WORLD_AIR_QUALITY_DATA\"][\"file_name\"])\n",
    "\n",
    "    # preprocess steps for air quality dataframe\n",
    "    air_quality_df = air_quality_df.drop(\n",
    "        columns=['City', 'AQI Category', 'CO AQI Category', 'Ozone AQI Category', 'NO2 AQI Category',\n",
    "                 'PM2.5 AQI Category', 'lat', 'lng'])\n",
    "\n",
    "    return air_quality_df"
   ]
  },
  {
   "cell_type": "code",
   "execution_count": null,
   "id": "cb91949c",
   "metadata": {},
   "outputs": [],
   "source": [
    "def dump_dataset_to_db(dataframe, db_name, datatype):\n",
    "    db_engine = create_engine(f\"sqlite:///../data/{db_name}.sqlite\")\n",
    "    dataframe.to_sql(db_name, db_engine, index=False, if_exists='replace', dtype=datatype)\n",
    "    return"
   ]
  },
  {
   "cell_type": "markdown",
   "id": "e22d3071-6230-4701-9e86-4edf221c60e8",
   "metadata": {},
   "source": [
    "### Final Result\n",
    "\n",
    "The output data of the pipeline consists of two SQLite tables: **world_air_quality_data.sqlite** and **world_forest_data.sqlite**, both derived from original CSV input files. The data structure is well-organized and clean, with minimal preprocessing required due to the high quality of the initial datasets. SQLite was chosen as the output format for its efficiency in handling structured data and ease of integration with various analytical tools. However, potential issues for the final report could include the need for further data normalization and addressing any unforeseen inconsistencies or biases in the original datasets that may affect analysis results."
   ]
  },
  {
   "cell_type": "code",
   "execution_count": null,
   "id": "a24e176f",
   "metadata": {},
   "outputs": [],
   "source": [
    "def data_collector():\n",
    "    # insert forest data into sqlite database\n",
    "    dump_dataset_to_db(dataframe=forest_df, db_name=DATASET['WORLD_FOREST_DATA']['db_name'],\n",
    "                       datatype=DATASET['WORLD_FOREST_DATA']['sqlalchemy_datatype'])\n",
    "\n",
    "    # insert air quality data into sqlite database\n",
    "    dump_dataset_to_db(dataframe=air_quality_df, db_name=DATASET['WORLD_AIR_QUALITY_DATA']['db_name'],\n",
    "                       datatype=DATASET['WORLD_AIR_QUALITY_DATA']['sqlalchemy_datatype'])\n",
    "\n",
    "    return"
   ]
  }
 ],
 "metadata": {
  "jupytext": {
   "cell_metadata_filter": "-all",
   "main_language": "python",
   "notebook_metadata_filter": "-all"
  },
  "kernelspec": {
   "display_name": "Python 3 (ipykernel)",
   "language": "python",
   "name": "python3"
  },
  "language_info": {
   "codemirror_mode": {
    "name": "ipython",
    "version": 3
   },
   "file_extension": ".py",
   "mimetype": "text/x-python",
   "name": "python",
   "nbconvert_exporter": "python",
   "pygments_lexer": "ipython3",
   "version": "3.12.0"
  }
 },
 "nbformat": 4,
 "nbformat_minor": 5
}
